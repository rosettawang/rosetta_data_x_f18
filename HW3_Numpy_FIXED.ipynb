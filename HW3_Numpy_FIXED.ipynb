{
 "cells": [
  {
   "cell_type": "markdown",
   "metadata": {},
   "source": [
    "![data-x](http://oi64.tinypic.com/o858n4.jpg)\n",
    "\n",
    "\n",
    "\n",
    "\n"
   ]
  },
  {
   "cell_type": "markdown",
   "metadata": {},
   "source": [
    "# Homework 03\n"
   ]
  },
  {
   "cell_type": "markdown",
   "metadata": {},
   "source": [
    "## NAME: Rosetta Wang"
   ]
  },
  {
   "cell_type": "markdown",
   "metadata": {},
   "source": [
    "\n",
    "## STUDENT ID: 3034171690"
   ]
  },
  {
   "cell_type": "markdown",
   "metadata": {},
   "source": [
    "\n",
    "\n",
    "## Numpy Introduction\n",
    "\n",
    "\n",
    "__1a) Create two numpy arrays (a and b). a should be all integers between 25-34 (inclusive), and b should be ten evenly spaced numbers between 1-6. Print all the results below:__ \n",
    "\n",
    "\n",
    "i) Cube (i.e. raise to the power of 3) all the elements in both arrays (element-wise)  \n",
    "ii)  Add both the cubed arrays (e.g., [1,2] + [3,4] = [4,6])  \n",
    "iii)  Sum the elements with even indices of the added array.  \n",
    "iv)  Take the square root of the added array (element-wise square root)__\n"
   ]
  },
  {
   "cell_type": "code",
   "execution_count": 1,
   "metadata": {},
   "outputs": [
    {
     "name": "stdout",
     "output_type": "stream",
     "text": [
      "[25 26 27 28 29 30 31 32 33 34]\n",
      "[1.         1.55555556 2.11111111 2.66666667 3.22222222 3.77777778\n",
      " 4.33333333 4.88888889 5.44444444 6.        ]\n",
      "[15625 17576 19683 21952 24389 27000 29791 32768 35937 39304]\n",
      "[  1.           3.76406036   9.40877915  18.96296296  33.45541838\n",
      "  53.91495199  81.37037037 116.85048011 161.38408779 216.        ]\n"
     ]
    }
   ],
   "source": [
    "import numpy as np\n",
    "a = np.array(range(25, 35))\n",
    "b = np.linspace(1.0, 6.0, num=10)\n",
    "print(a)\n",
    "print(b)\n",
    "a **= 3\n",
    "b **= 3\n",
    "print(a)\n",
    "print(b)"
   ]
  },
  {
   "cell_type": "markdown",
   "metadata": {},
   "source": [
    "__1b) Append b to a, reshape the appended array so that it is a 4x5, 2d array and store the results in a variable called m. Print m.__\n"
   ]
  },
  {
   "cell_type": "code",
   "execution_count": 17,
   "metadata": {
    "scrolled": true
   },
   "outputs": [
    {
     "name": "stdout",
     "output_type": "stream",
     "text": [
      "[[15625 17576 19683 21952 24389]\n",
      " [27000 29791 32768 35937 39304]\n",
      " [    1     3     9    18    33]\n",
      " [   53    81   116   161   216]]\n"
     ]
    }
   ],
   "source": [
    "m = np.array([a, b], np.int32).reshape(4, 5)\n",
    "print(m)"
   ]
  },
  {
   "cell_type": "markdown",
   "metadata": {},
   "source": [
    "__1c) Extract the third and the fourth column of the m matrix. Store the resulting 4x2 matrix in a new variable called m2. Print m2.__\n"
   ]
  },
  {
   "cell_type": "code",
   "execution_count": 13,
   "metadata": {},
   "outputs": [
    {
     "name": "stdout",
     "output_type": "stream",
     "text": [
      "[[19683 21952]\n",
      " [32768 35937]\n",
      " [    9    18]\n",
      " [  116   161]]\n",
      "[[19683 32768     9   116]\n",
      " [21952 35937    18   161]]\n"
     ]
    }
   ],
   "source": [
    "# I assume you mean to store a 2x4 matrix because you can't take the dot product of a 4x2 and 4x5\n",
    "m2 = np.column_stack([m[:,2], m[:,3]])\n",
    "print(m2)\n",
    "m2 = np.array([m[:,2], m[:,3]])\n",
    "print(m2)"
   ]
  },
  {
   "cell_type": "markdown",
   "metadata": {},
   "source": [
    "__1d) Take the dot product of m2 and m store the results in a matrix called m3. Print m3.\n",
    "Note that Dot product of two matrices A.B =A<sup>T</sup>B__"
   ]
  },
  {
   "cell_type": "code",
   "execution_count": 14,
   "metadata": {},
   "outputs": [
    {
     "name": "stdout",
     "output_type": "stream",
     "text": [
      "[[1192289032 1322149319 1461175850 1609683670 1767987512]\n",
      " [1313307551 1456440614 1609683670 1773384518 1947890546]]\n"
     ]
    }
   ],
   "source": [
    "m3 = np.dot(m2, m, out = None)\n",
    "print(m3)"
   ]
  },
  {
   "cell_type": "markdown",
   "metadata": {},
   "source": [
    "__1e) Round the m3 matrix to three decimal points. Store the result in place and print the new m3.__\n"
   ]
  },
  {
   "cell_type": "code",
   "execution_count": 16,
   "metadata": {},
   "outputs": [
    {
     "name": "stdout",
     "output_type": "stream",
     "text": [
      "[[1192289032 1322149319 1461175850 1609683670 1767987512]\n",
      " [1313307551 1456440614 1609683670 1773384518 1947890546]]\n"
     ]
    }
   ],
   "source": [
    "m3 = np.around(m3, decimals=3)\n",
    "print(m3)"
   ]
  },
  {
   "cell_type": "markdown",
   "metadata": {},
   "source": [
    "__1f) Sort the m3 array so that the highest value is at the bottom right and the lowest value is at the top left. Print the sorted m3 array.__\n"
   ]
  },
  {
   "cell_type": "code",
   "execution_count": 18,
   "metadata": {},
   "outputs": [
    {
     "name": "stdout",
     "output_type": "stream",
     "text": [
      "[[1192289032 1322149319 1461175850 1609683670 1767987512]\n",
      " [1313307551 1456440614 1609683670 1773384518 1947890546]]\n"
     ]
    }
   ],
   "source": [
    "print(np.sort(m3))"
   ]
  },
  {
   "cell_type": "markdown",
   "metadata": {},
   "source": [
    "## NumPy and Masks\n",
    "__2a) create an array called 'f' where the values are cosine(x) for x from 0 to pi with 50 equally spaced values in f__\n",
    "* print f\n",
    "* use a 'mask' and print an array that is True when f >= 1/2 and False when f < 1/2\n",
    "* create and print an array sequence that has only those values where f>= 1/2\n",
    "\n"
   ]
  },
  {
   "cell_type": "code",
   "execution_count": 21,
   "metadata": {},
   "outputs": [
    {
     "name": "stdout",
     "output_type": "stream",
     "text": [
      "[ 1.          0.99794539  0.99179001  0.98155916  0.96729486  0.94905575\n",
      "  0.92691676  0.90096887  0.8713187   0.8380881   0.80141362  0.76144596\n",
      "  0.71834935  0.67230089  0.6234898   0.57211666  0.51839257  0.46253829\n",
      "  0.40478334  0.34536505  0.28452759  0.22252093  0.1595999   0.09602303\n",
      "  0.03205158 -0.03205158 -0.09602303 -0.1595999  -0.22252093 -0.28452759\n",
      " -0.34536505 -0.40478334 -0.46253829 -0.51839257 -0.57211666 -0.6234898\n",
      " -0.67230089 -0.71834935 -0.76144596 -0.80141362 -0.8380881  -0.8713187\n",
      " -0.90096887 -0.92691676 -0.94905575 -0.96729486 -0.98155916 -0.99179001\n",
      " -0.99794539 -1.        ]\n",
      "[1.         0.99794539 0.99179001 0.98155916 0.96729486 0.94905575\n",
      " 0.92691676 0.90096887 0.8713187  0.8380881  0.80141362 0.76144596\n",
      " 0.71834935 0.67230089 0.6234898  0.57211666 0.51839257]\n"
     ]
    }
   ],
   "source": [
    "f = np.cos(np.linspace(0, np.pi, num=50))\n",
    "print(f)\n",
    "mask = f>=1/2\n",
    "print(f[mask])"
   ]
  },
  {
   "cell_type": "markdown",
   "metadata": {
    "collapsed": true
   },
   "source": [
    "## NumPy and 2 Variable Prediction"
   ]
  },
  {
   "cell_type": "markdown",
   "metadata": {},
   "source": [
    "__ Let 'x' be the number of miles a person drives per day and 'y' be the dollars spent on buying car fuel (per day).__\n",
    "  \n",
    "__We have created 2 numpy arrays each of size 100 that represent x and y.  \n",
    "x ( number of miles) ranges from 1 to 10 with a uniform noise of (0,1/2)  \n",
    "y (money spent in dollars) will be from 1 to 20 with a uniform noise (0,1)__ \n"
   ]
  },
  {
   "cell_type": "code",
   "execution_count": 29,
   "metadata": {},
   "outputs": [
    {
     "name": "stdout",
     "output_type": "stream",
     "text": [
      "x =  [ 1.34683976  1.12176759  1.51512398  1.55233174  1.40619168  1.65075498\n",
      "  1.79399331  1.80243817  1.89844195  2.00100023  2.3344038   2.22424872\n",
      "  2.24914511  2.36268477  2.49808849  2.8212704   2.68452475  2.68229427\n",
      "  3.09511169  2.95703884  3.09047742  3.2544361   3.41541904  3.40886375\n",
      "  3.50672677  3.74960644  3.64861355  3.7721462   3.56368566  4.01092701\n",
      "  4.15630694  4.06088549  4.02517179  4.25169402  4.15897504  4.26835333\n",
      "  4.32520644  4.48563164  4.78490721  4.84614839  4.96698768  5.18754259\n",
      "  5.29582013  5.32097781  5.0674106   5.47601124  5.46852704  5.64537452\n",
      "  5.49642807  5.89755027  5.68548923  5.76276141  5.94613234  6.18135713\n",
      "  5.96522091  6.0275473   6.54290191  6.4991329   6.74003765  6.81809807\n",
      "  6.50611821  6.91538752  7.01250925  6.89905417  7.31314433  7.20472297\n",
      "  7.1043621   7.48199528  7.58957227  7.61744354  7.6991707   7.85436822\n",
      "  8.03510784  7.80787781  8.22410224  7.99366248  8.40581097  8.28913792\n",
      "  8.45971515  8.54227144  8.6906456   8.61856507  8.83489887  8.66309658\n",
      "  8.94837987  9.20890222  8.9614749   8.92608294  9.13231416  9.55889896\n",
      "  9.61488451  9.54252979  9.42015491  9.90952569 10.00659591 10.02504265\n",
      " 10.07330937  9.93489915 10.0892334  10.36509991]\n",
      "y=  [ 1.6635012   2.0214592   2.10816052  2.26016496  1.96287558  2.9554635\n",
      "  3.02881887  3.33565296  2.75465779  3.4250107   3.39670148  3.39377767\n",
      "  3.78503343  4.38293049  4.32963586  4.03925039  4.73691868  4.30098399\n",
      "  4.8416329   4.78175957  4.99765787  5.31746817  5.76844671  5.93723749\n",
      "  5.72811642  6.70973615  6.68143367  6.57482731  7.17737603  7.54863252\n",
      "  7.30221419  7.3202573   7.78023884  7.91133365  8.2765417   8.69203281\n",
      "  8.78219865  8.45897546  8.89094715  8.81719921  8.87106971  9.66192562\n",
      "  9.4020625   9.85990783  9.60359778 10.07386266 10.6957995  10.66721916\n",
      " 11.18256285 10.57431836 11.46744716 10.94398916 11.26445259 12.09754828\n",
      " 12.11988037 12.121557   12.17613693 12.43750193 13.00912372 12.86407194\n",
      " 13.24640866 12.76120085 13.11723062 14.07841099 14.19821707 14.27289001\n",
      " 14.30624942 14.63060835 14.2770918  15.0744923  14.45261619 15.11897313\n",
      " 15.2378667  15.27203124 15.32491892 16.01095271 15.71250558 16.29488506\n",
      " 16.70618934 16.56555394 16.42379457 17.18144744 17.13813976 17.69613625\n",
      " 17.37763019 17.90942839 17.90343733 18.01951169 18.35727914 18.16841269\n",
      " 18.61813748 18.66062754 18.81217983 19.44995194 19.7213867  19.71966726\n",
      " 19.78961904 19.64385088 20.69719809 20.07974319]\n"
     ]
    }
   ],
   "source": [
    "# seed the random number generator with a fixed value\n",
    "import numpy as np\n",
    "np.random.seed(500)\n",
    "\n",
    "x=np.linspace(1,10,100)+ np.random.uniform(low=0,high=.5,size=100) \n",
    "y=np.linspace(1,20,100)+ np.random.uniform(low=0,high=1,size=100)\n",
    "print ('x = ',x)\n",
    "print ('y= ',y)"
   ]
  },
  {
   "cell_type": "markdown",
   "metadata": {},
   "source": [
    "__3a) Find Expected value of x and the expected value of y__"
   ]
  },
  {
   "cell_type": "code",
   "execution_count": 31,
   "metadata": {},
   "outputs": [
    {
     "name": "stdout",
     "output_type": "stream",
     "text": [
      "5.782532541587923 11.012981683344968\n"
     ]
    }
   ],
   "source": [
    "print(np.mean(x), np.mean(y))"
   ]
  },
  {
   "cell_type": "markdown",
   "metadata": {},
   "source": [
    "__3b) Find variance of distributions of  x and  y__"
   ]
  },
  {
   "cell_type": "code",
   "execution_count": 33,
   "metadata": {},
   "outputs": [
    {
     "data": {
      "text/plain": [
       "7.03332752947585"
      ]
     },
     "execution_count": 33,
     "metadata": {},
     "output_type": "execute_result"
    }
   ],
   "source": [
    "np.var(x)"
   ]
  },
  {
   "cell_type": "code",
   "execution_count": 34,
   "metadata": {},
   "outputs": [
    {
     "data": {
      "text/plain": [
       "30.113903575509635"
      ]
     },
     "execution_count": 34,
     "metadata": {},
     "output_type": "execute_result"
    }
   ],
   "source": [
    "np.var(y)"
   ]
  },
  {
   "cell_type": "markdown",
   "metadata": {},
   "source": [
    "__3c) Find co-variance of x and y.__"
   ]
  },
  {
   "cell_type": "code",
   "execution_count": 36,
   "metadata": {},
   "outputs": [
    {
     "data": {
      "text/plain": [
       "14.657743832803439"
      ]
     },
     "execution_count": 36,
     "metadata": {},
     "output_type": "execute_result"
    }
   ],
   "source": [
    "np.cov(x,y)[0][1]"
   ]
  },
  {
   "cell_type": "markdown",
   "metadata": {},
   "source": [
    "__3d) Assuming that number of dollars spent in car fuel is only dependant on the miles driven, by  a linear relationship.  \n",
    "Write code that uses a linear predictor to calculate a predicted value of y for each x\n",
    "ie y_predicted = f(x) = y0+mx.__  "
   ]
  },
  {
   "cell_type": "code",
   "execution_count": 38,
   "metadata": {},
   "outputs": [],
   "source": [
    "X = np.column_stack([np.ones(len(x)),x])\n",
    "W = np.linalg.inv(X.T.dot(X)).dot(X.T).dot(y)"
   ]
  },
  {
   "cell_type": "code",
   "execution_count": 39,
   "metadata": {},
   "outputs": [],
   "source": [
    "y_predicted = lambda x: W[0]+W[1]*x"
   ]
  },
  {
   "cell_type": "markdown",
   "metadata": {},
   "source": [
    "__3e) Predict y for each value in x, pur the error into an array called y_error__"
   ]
  },
  {
   "cell_type": "code",
   "execution_count": 44,
   "metadata": {},
   "outputs": [
    {
     "name": "stdout",
     "output_type": "stream",
     "text": [
      "[ 0.5144174   0.27512051  0.6933373   0.73289662  0.5775204   0.83754028\n",
      "  0.98983137  0.99880996  1.10088125  1.20992128  1.5643962   1.44727924\n",
      "  1.47374909  1.59446454  1.73842587  2.08203311  1.93664503  1.9342736\n",
      "  2.37318137  2.22638221  2.36825421  2.54257519  2.71373237  2.70676278\n",
      "  2.81081081  3.06904065  2.96166494  3.09300495  2.87136955  3.34687688\n",
      "  3.50144492  3.39999276  3.36202194  3.60286053  3.50428164  3.62057272\n",
      "  3.68101899  3.85158317  4.16977317  4.23488484  4.36336127  4.5978554\n",
      "  4.71297616  4.73972383  4.47013098  4.90455547  4.89659827  5.08462264\n",
      "  4.92626266  5.35273607  5.12727262  5.20942846  5.40438857  5.65447973\n",
      "  5.42468354  5.49094901  6.0388744   5.99233916  6.24846926  6.33146315\n",
      "  5.99976594  6.43490137  6.53816125  6.41753574  6.85779669  6.74252303\n",
      "  6.63581927  7.03731915  7.15169508  7.18132783  7.2682202   7.43322632\n",
      "  7.62538881  7.38379768  7.8263278   7.58132407  8.01952064  7.89547377\n",
      "  8.0768316   8.16460551  8.32235703  8.24572096  8.4757272   8.29306689\n",
      "  8.59638029  8.87336784  8.61030294  8.57267417  8.79193935  9.24548463\n",
      "  9.3050085   9.2280809   9.09797185  9.61827121  9.72147633  9.74108893\n",
      "  9.79240614  9.64524829  9.80933658 10.10263805]\n"
     ]
    }
   ],
   "source": [
    "y_error = y_predicted(x) - x\n",
    "print(y_error)"
   ]
  },
  {
   "cell_type": "code",
   "execution_count": null,
   "metadata": {},
   "outputs": [],
   "source": [
    "# I assume you mean \"put the error\""
   ]
  },
  {
   "cell_type": "markdown",
   "metadata": {},
   "source": [
    "__3f) Write code that calculates the root mean square error(RMSE), that is root of average of y-error squared__"
   ]
  },
  {
   "cell_type": "code",
   "execution_count": 47,
   "metadata": {},
   "outputs": [
    {
     "data": {
      "text/plain": [
       "5.94205703941763"
      ]
     },
     "execution_count": 47,
     "metadata": {},
     "output_type": "execute_result"
    }
   ],
   "source": [
    "np.sqrt(np.mean(y_error ** 2))"
   ]
  },
  {
   "cell_type": "code",
   "execution_count": null,
   "metadata": {
    "collapsed": true
   },
   "outputs": [],
   "source": []
  }
 ],
 "metadata": {
  "anaconda-cloud": {},
  "kernelspec": {
   "display_name": "Python 3",
   "language": "python",
   "name": "python3"
  },
  "language_info": {
   "codemirror_mode": {
    "name": "ipython",
    "version": 3
   },
   "file_extension": ".py",
   "mimetype": "text/x-python",
   "name": "python",
   "nbconvert_exporter": "python",
   "pygments_lexer": "ipython3",
   "version": "3.6.5"
  }
 },
 "nbformat": 4,
 "nbformat_minor": 1
}
