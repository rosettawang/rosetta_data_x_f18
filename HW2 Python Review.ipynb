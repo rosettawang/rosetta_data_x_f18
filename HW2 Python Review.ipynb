{
 "cells": [
  {
   "cell_type": "markdown",
   "metadata": {},
   "source": [
    "# Homework 2\n"
   ]
  },
  {
   "cell_type": "markdown",
   "metadata": {},
   "source": [
    "In this homework you will complete a couple of simple exercises in order to show your understanding with Python. If these exercises are challenging or new to you, you may want to reconsider taking the class and/or brush up on your Python skills. For the following exercises you are not allowed to use any Python packages (i.e. Numpy, Pandas, etc.)."
   ]
  },
  {
   "cell_type": "markdown",
   "metadata": {},
   "source": [
    "### Please print the output of each question in a new cell below your code"
   ]
  },
  {
   "cell_type": "markdown",
   "metadata": {},
   "source": [
    "## Lists"
   ]
  },
  {
   "cell_type": "markdown",
   "metadata": {},
   "source": [
    "1.1 Create an empty Python list called 'a' in the cell below."
   ]
  },
  {
   "cell_type": "code",
   "execution_count": 1,
   "metadata": {},
   "outputs": [],
   "source": [
    "#your code here\n",
    "a = []\n"
   ]
  },
  {
   "cell_type": "markdown",
   "metadata": {},
   "source": [
    "1.2 Store all values between 1-100 (inclusive) with increments of 3 (i.e. 1, 4, 7...) in 'a'."
   ]
  },
  {
   "cell_type": "code",
   "execution_count": 2,
   "metadata": {},
   "outputs": [
    {
     "data": {
      "text/plain": [
       "[1,\n",
       " 4,\n",
       " 7,\n",
       " 10,\n",
       " 13,\n",
       " 16,\n",
       " 19,\n",
       " 22,\n",
       " 25,\n",
       " 28,\n",
       " 31,\n",
       " 34,\n",
       " 37,\n",
       " 40,\n",
       " 43,\n",
       " 46,\n",
       " 49,\n",
       " 52,\n",
       " 55,\n",
       " 58,\n",
       " 61,\n",
       " 64,\n",
       " 67,\n",
       " 70,\n",
       " 73,\n",
       " 76,\n",
       " 79,\n",
       " 82,\n",
       " 85,\n",
       " 88,\n",
       " 91,\n",
       " 94,\n",
       " 97,\n",
       " 100]"
      ]
     },
     "execution_count": 2,
     "metadata": {},
     "output_type": "execute_result"
    }
   ],
   "source": [
    "#your code here\n",
    "i = 1\n",
    "while i <= 100:\n",
    "    a.append(i)\n",
    "    i += 3\n",
    "a"
   ]
  },
  {
   "cell_type": "markdown",
   "metadata": {},
   "source": [
    "1.3 Create another list called 'a2' with numbers from 2-46 (inclusive) with increments of 0.5 (i.e. 2, 2.5, 3...)."
   ]
  },
  {
   "cell_type": "code",
   "execution_count": 3,
   "metadata": {},
   "outputs": [
    {
     "data": {
      "text/plain": [
       "[2,\n",
       " 2.5,\n",
       " 3.0,\n",
       " 3.5,\n",
       " 4.0,\n",
       " 4.5,\n",
       " 5.0,\n",
       " 5.5,\n",
       " 6.0,\n",
       " 6.5,\n",
       " 7.0,\n",
       " 7.5,\n",
       " 8.0,\n",
       " 8.5,\n",
       " 9.0,\n",
       " 9.5,\n",
       " 10.0,\n",
       " 10.5,\n",
       " 11.0,\n",
       " 11.5,\n",
       " 12.0,\n",
       " 12.5,\n",
       " 13.0,\n",
       " 13.5,\n",
       " 14.0,\n",
       " 14.5,\n",
       " 15.0,\n",
       " 15.5,\n",
       " 16.0,\n",
       " 16.5,\n",
       " 17.0,\n",
       " 17.5,\n",
       " 18.0,\n",
       " 18.5,\n",
       " 19.0,\n",
       " 19.5,\n",
       " 20.0,\n",
       " 20.5,\n",
       " 21.0,\n",
       " 21.5,\n",
       " 22.0,\n",
       " 22.5,\n",
       " 23.0,\n",
       " 23.5,\n",
       " 24.0,\n",
       " 24.5,\n",
       " 25.0,\n",
       " 25.5,\n",
       " 26.0,\n",
       " 26.5,\n",
       " 27.0,\n",
       " 27.5,\n",
       " 28.0,\n",
       " 28.5,\n",
       " 29.0,\n",
       " 29.5,\n",
       " 30.0,\n",
       " 30.5,\n",
       " 31.0,\n",
       " 31.5,\n",
       " 32.0,\n",
       " 32.5,\n",
       " 33.0,\n",
       " 33.5,\n",
       " 34.0,\n",
       " 34.5,\n",
       " 35.0,\n",
       " 35.5,\n",
       " 36.0,\n",
       " 36.5,\n",
       " 37.0,\n",
       " 37.5,\n",
       " 38.0,\n",
       " 38.5,\n",
       " 39.0,\n",
       " 39.5,\n",
       " 40.0,\n",
       " 40.5,\n",
       " 41.0,\n",
       " 41.5,\n",
       " 42.0,\n",
       " 42.5,\n",
       " 43.0,\n",
       " 43.5,\n",
       " 44.0,\n",
       " 44.5,\n",
       " 45.0,\n",
       " 45.5,\n",
       " 46.0]"
      ]
     },
     "execution_count": 3,
     "metadata": {},
     "output_type": "execute_result"
    }
   ],
   "source": [
    "#your code here\n",
    "a2 = []\n",
    "i = 2\n",
    "while i <= 46:\n",
    "    a2.append(i)\n",
    "    i += .5\n",
    "a2"
   ]
  },
  {
   "cell_type": "markdown",
   "metadata": {},
   "source": [
    "1.4 Double every even integer element from list 'a'. Store the results back in 'a'."
   ]
  },
  {
   "cell_type": "code",
   "execution_count": 4,
   "metadata": {},
   "outputs": [
    {
     "data": {
      "text/plain": [
       "[2,\n",
       " 8,\n",
       " 14,\n",
       " 20,\n",
       " 26,\n",
       " 32,\n",
       " 38,\n",
       " 44,\n",
       " 50,\n",
       " 56,\n",
       " 62,\n",
       " 68,\n",
       " 74,\n",
       " 80,\n",
       " 86,\n",
       " 92,\n",
       " 98,\n",
       " 104,\n",
       " 110,\n",
       " 116,\n",
       " 122,\n",
       " 128,\n",
       " 134,\n",
       " 140,\n",
       " 146,\n",
       " 152,\n",
       " 158,\n",
       " 164,\n",
       " 170,\n",
       " 176,\n",
       " 182,\n",
       " 188,\n",
       " 194,\n",
       " 200]"
      ]
     },
     "execution_count": 4,
     "metadata": {},
     "output_type": "execute_result"
    }
   ],
   "source": [
    "#your code here\n",
    "a = [2*i for i in a]\n",
    "a"
   ]
  },
  {
   "cell_type": "markdown",
   "metadata": {},
   "source": [
    "1.5 Add all numbers in 'a' except for the 2nd and 21st elements (the 2nd element here means the element at list index 1)."
   ]
  },
  {
   "cell_type": "code",
   "execution_count": 5,
   "metadata": {},
   "outputs": [
    {
     "data": {
      "text/plain": [
       "3304"
      ]
     },
     "execution_count": 5,
     "metadata": {},
     "output_type": "execute_result"
    }
   ],
   "source": [
    "#your code here\n",
    "sum(a) - a[1] - a[20]\n",
    "    "
   ]
  },
  {
   "cell_type": "markdown",
   "metadata": {},
   "source": [
    "1.6 Calculate the mean of 'a'."
   ]
  },
  {
   "cell_type": "code",
   "execution_count": 6,
   "metadata": {},
   "outputs": [
    {
     "data": {
      "text/plain": [
       "101.0"
      ]
     },
     "execution_count": 6,
     "metadata": {},
     "output_type": "execute_result"
    }
   ],
   "source": [
    "#your code here\n",
    "mean = sum(a) / len(a)\n",
    "mean"
   ]
  },
  {
   "cell_type": "markdown",
   "metadata": {},
   "source": [
    "1.7 Delete all elements greater than the mean value from list 'a'"
   ]
  },
  {
   "cell_type": "code",
   "execution_count": 7,
   "metadata": {},
   "outputs": [
    {
     "data": {
      "text/plain": [
       "[2,\n",
       " 8,\n",
       " 14,\n",
       " 20,\n",
       " 26,\n",
       " 32,\n",
       " 38,\n",
       " 44,\n",
       " 50,\n",
       " 56,\n",
       " 62,\n",
       " 68,\n",
       " 74,\n",
       " 80,\n",
       " 86,\n",
       " 92,\n",
       " 98,\n",
       " 110,\n",
       " 122,\n",
       " 134,\n",
       " 146,\n",
       " 158,\n",
       " 170,\n",
       " 182,\n",
       " 194]"
      ]
     },
     "execution_count": 7,
     "metadata": {},
     "output_type": "execute_result"
    }
   ],
   "source": [
    "#your code here\n",
    "for i in a:\n",
    "    if i > mean:\n",
    "        a.remove(i)\n",
    "a"
   ]
  },
  {
   "cell_type": "markdown",
   "metadata": {},
   "source": [
    "## Strings"
   ]
  },
  {
   "cell_type": "markdown",
   "metadata": {},
   "source": [
    "2.1 Create an empty list called 'b'."
   ]
  },
  {
   "cell_type": "code",
   "execution_count": 1,
   "metadata": {},
   "outputs": [],
   "source": [
    "#your code here\n",
    "b = []"
   ]
  },
  {
   "cell_type": "markdown",
   "metadata": {},
   "source": [
    "2.2 Store the words in the sentence below as elements into the list 'b'.  \n",
    "\n",
    "'I am so excited about Data-X. It is important to be able to work with data.'"
   ]
  },
  {
   "cell_type": "code",
   "execution_count": 2,
   "metadata": {},
   "outputs": [
    {
     "name": "stdout",
     "output_type": "stream",
     "text": [
      "['I', 'am', 'so', 'excited', 'about', 'Data-X.', 'It', 'is', 'important', 'to', 'be', 'able', 'to', 'work', 'with', 'data.']\n",
      "I am so excited about Data-X. It is important to be able to work with data.\n"
     ]
    }
   ],
   "source": [
    "#your code here\n",
    "sentence = 'I am so excited about Data-X. It is important to be able to work with data.'\n",
    "for word in sentence.split():\n",
    "    b.append(word)\n",
    "print(b)\n",
    "print(sentence)"
   ]
  },
  {
   "cell_type": "markdown",
   "metadata": {},
   "source": [
    "2.3 Return the count of the occurences of the lower-case letter 'e' in the list 'b'."
   ]
  },
  {
   "cell_type": "code",
   "execution_count": 3,
   "metadata": {
    "scrolled": true
   },
   "outputs": [
    {
     "data": {
      "text/plain": [
       "4"
      ]
     },
     "execution_count": 3,
     "metadata": {},
     "output_type": "execute_result"
    }
   ],
   "source": [
    "#your code here\n",
    "e_count = 0\n",
    "for word in sentence:\n",
    "    for letter in list(word):\n",
    "        e_count += letter.count('e')\n",
    "e_count"
   ]
  },
  {
   "cell_type": "markdown",
   "metadata": {},
   "source": [
    "2.4 Replace every lower- or upper-case letter 'i' in the list b with a '1'."
   ]
  },
  {
   "cell_type": "code",
   "execution_count": 4,
   "metadata": {},
   "outputs": [
    {
     "name": "stdout",
     "output_type": "stream",
     "text": [
      "['1', 'am', 'so', 'exc1ted', 'about', 'Data-X.', '1t', '1s', '1mportant', 'to', 'be', 'able', 'to', 'work', 'w1th', 'data.']\n"
     ]
    }
   ],
   "source": [
    "#your code here\n",
    "for word_index, word in enumerate(b):\n",
    "    letters = list(word)\n",
    "    for letter_index, letter in enumerate(letters):\n",
    "        if letter is 'I':\n",
    "            letters[letter_index] = '1'\n",
    "        if letter is 'i':\n",
    "            letters[letter_index] = '1'\n",
    "        b[word_index] = ''.join(letters)\n",
    "print(b)"
   ]
  },
  {
   "cell_type": "markdown",
   "metadata": {},
   "source": [
    "2.5 Append the string \"This is the end of the first HW.\" to the list 'b'."
   ]
  },
  {
   "cell_type": "code",
   "execution_count": 5,
   "metadata": {},
   "outputs": [
    {
     "name": "stdout",
     "output_type": "stream",
     "text": [
      "['1', 'am', 'so', 'exc1ted', 'about', 'Data-X.', '1t', '1s', '1mportant', 'to', 'be', 'able', 'to', 'work', 'w1th', 'data.', 'This is the end of the first HW.']\n"
     ]
    }
   ],
   "source": [
    "#your code here\n",
    "b.append('This is the end of the first HW.')\n",
    "print(b)"
   ]
  },
  {
   "cell_type": "markdown",
   "metadata": {},
   "source": [
    "2.6 Print 'b' as ONE string backwards (starting with \"WH tsrif...\")."
   ]
  },
  {
   "cell_type": "code",
   "execution_count": 19,
   "metadata": {},
   "outputs": [
    {
     "name": "stdout",
     "output_type": "stream",
     "text": [
      ".WH tsrif eht fo dne eht si sihT.atadht1wkrowotelbaebottnatropm1s1t1.X-ataDtuobadet1cxeosma1\n"
     ]
    }
   ],
   "source": [
    "#your code here\n",
    "all_letters = []\n",
    "for words in b:\n",
    "    letters = list(words)\n",
    "    for letter in letters:\n",
    "        all_letters.append(letter)\n",
    "print(''.join(all_letters[::-1]))"
   ]
  },
  {
   "cell_type": "markdown",
   "metadata": {},
   "source": [
    "## Dictionaries"
   ]
  },
  {
   "cell_type": "markdown",
   "metadata": {
    "collapsed": true
   },
   "source": [
    "3.1 Put the following in a dictionary called 'codes':\n",
    "\n",
    "Keys: 1001, 1002, 1003, 1004, 1005   \n",
    "Values: 'Alpha', 'Beta', 'Gamma', 'Delta', 'Tau'\n",
    "\n",
    "then traverse the dictionary by its keys and change every value to be all lower case."
   ]
  },
  {
   "cell_type": "code",
   "execution_count": 20,
   "metadata": {
    "scrolled": true
   },
   "outputs": [
    {
     "data": {
      "text/plain": [
       "{1001: 'Alpha', 1002: 'Beta', 1003: 'Gamma', 1004: 'Delta', 1005: 'Tau'}"
      ]
     },
     "execution_count": 20,
     "metadata": {},
     "output_type": "execute_result"
    }
   ],
   "source": [
    "#your code here\n",
    "codes = {1001: 'Alpha', 1002: 'Beta', 1003: 'Gamma', 1004: 'Delta', 1005: 'Tau'}\n",
    "codes"
   ]
  },
  {
   "cell_type": "markdown",
   "metadata": {},
   "source": [
    "3.2 Delete 'alpha' from the dictionary."
   ]
  },
  {
   "cell_type": "code",
   "execution_count": 21,
   "metadata": {},
   "outputs": [
    {
     "data": {
      "text/plain": [
       "{1002: 'Beta', 1003: 'Gamma', 1004: 'Delta', 1005: 'Tau'}"
      ]
     },
     "execution_count": 21,
     "metadata": {},
     "output_type": "execute_result"
    }
   ],
   "source": [
    "#your code here\n",
    "del codes[1001]\n",
    "codes"
   ]
  },
  {
   "cell_type": "markdown",
   "metadata": {},
   "source": [
    "## Sets"
   ]
  },
  {
   "cell_type": "markdown",
   "metadata": {},
   "source": [
    "4.1 Create a set called 'c' with the all the odd numbers less than 10."
   ]
  },
  {
   "cell_type": "code",
   "execution_count": 22,
   "metadata": {},
   "outputs": [
    {
     "name": "stdout",
     "output_type": "stream",
     "text": [
      "{1, 3, 5, 7, 9}\n"
     ]
    }
   ],
   "source": [
    "#your code here\n",
    "c = {9, 7, 5, 3, 1}\n",
    "print(c)"
   ]
  },
  {
   "cell_type": "markdown",
   "metadata": {},
   "source": [
    "4.2 Create another set called 'd' with elements 2, 5, 10, 30."
   ]
  },
  {
   "cell_type": "code",
   "execution_count": 23,
   "metadata": {},
   "outputs": [
    {
     "name": "stdout",
     "output_type": "stream",
     "text": [
      "{2, 10, 5, 30}\n"
     ]
    }
   ],
   "source": [
    "#your code here\n",
    "d = {2, 5, 10, 30}\n",
    "print(d)"
   ]
  },
  {
   "cell_type": "markdown",
   "metadata": {},
   "source": [
    "4.3 Find the union between sets 'c' and 'd' and store this in a new set called 'e'."
   ]
  },
  {
   "cell_type": "code",
   "execution_count": 24,
   "metadata": {},
   "outputs": [
    {
     "name": "stdout",
     "output_type": "stream",
     "text": [
      "{1, 2, 3, 5, 7, 9, 10, 30}\n"
     ]
    }
   ],
   "source": [
    "#your code here\n",
    "union = c.union(d)\n",
    "print(union)"
   ]
  },
  {
   "cell_type": "markdown",
   "metadata": {},
   "source": [
    "4.4 Find the intersection between sets 'c' and 'd'."
   ]
  },
  {
   "cell_type": "code",
   "execution_count": 25,
   "metadata": {},
   "outputs": [
    {
     "name": "stdout",
     "output_type": "stream",
     "text": [
      "{5}\n"
     ]
    }
   ],
   "source": [
    "#your code here\n",
    "intersection = c.intersection(d)\n",
    "print(intersection)"
   ]
  },
  {
   "cell_type": "code",
   "execution_count": null,
   "metadata": {},
   "outputs": [],
   "source": []
  },
  {
   "cell_type": "code",
   "execution_count": null,
   "metadata": {},
   "outputs": [],
   "source": []
  },
  {
   "cell_type": "code",
   "execution_count": null,
   "metadata": {},
   "outputs": [],
   "source": []
  }
 ],
 "metadata": {
  "anaconda-cloud": {},
  "kernelspec": {
   "display_name": "Python 3",
   "language": "python",
   "name": "python3"
  },
  "language_info": {
   "codemirror_mode": {
    "name": "ipython",
    "version": 3
   },
   "file_extension": ".py",
   "mimetype": "text/x-python",
   "name": "python",
   "nbconvert_exporter": "python",
   "pygments_lexer": "ipython3",
   "version": "3.6.5"
  }
 },
 "nbformat": 4,
 "nbformat_minor": 1
}
